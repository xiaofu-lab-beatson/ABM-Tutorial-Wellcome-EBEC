{
 "cells": [
  {
   "cell_type": "markdown",
   "id": "9b9efd1a",
   "metadata": {},
   "source": [
    "\"\"\" _summary_\n",
    "\n",
    "This Jupyter notebook calls functions and classes to generate a simulation.\n",
    "\n",
    "\"\"\""
   ]
  },
  {
   "cell_type": "markdown",
   "id": "ad91f75a",
   "metadata": {},
   "source": [
    "# Library"
   ]
  },
  {
   "cell_type": "code",
   "execution_count": null,
   "id": "f631992a",
   "metadata": {},
   "outputs": [],
   "source": [
    "import json\n",
    "import numpy as np\n",
    "import pandas as pd\n",
    "import plotly.express as px"
   ]
  },
  {
   "cell_type": "code",
   "execution_count": null,
   "id": "c16a1f5f",
   "metadata": {},
   "outputs": [],
   "source": [
    "from classes_and_functions.settings import get_cell_configurations, get_simulation_parameters\n",
    "from classes_and_functions.initialisation_functions import init_lattice_in_simulation, init_cell_dictionaries\n",
    "from classes_and_functions.simulation_functions import update_cell_states, implicit_immune_predation\n",
    "from classes_and_functions.analysis_functions import get_tumour_sizes\n",
    "\n",
    "from classes_and_functions.cell_classes import CancerCell, Hepatocyte"
   ]
  },
  {
   "cell_type": "markdown",
   "id": "02600d78",
   "metadata": {},
   "source": [
    "# Main"
   ]
  },
  {
   "cell_type": "markdown",
   "id": "492af29b",
   "metadata": {},
   "source": [
    "## settings"
   ]
  },
  {
   "cell_type": "code",
   "execution_count": null,
   "id": "0ba64f4b",
   "metadata": {},
   "outputs": [],
   "source": [
    "# paths to read files\n",
    "\n",
    "lattice_size_explore = 'small'; date_str = \"2025-06-23\"\n",
    "\n",
    "path_to_lattice_settings = f\"./files/lattice_settings_{date_str}.json\" \n",
    "path_to_lattice_without_tumour = f\"./files/lattice_with_CVs_PTs_{date_str}_annotated_without_tumour.csv\" "
   ]
  },
  {
   "cell_type": "markdown",
   "id": "35b22d36",
   "metadata": {},
   "source": [
    "## read lattice "
   ]
  },
  {
   "cell_type": "code",
   "execution_count": null,
   "id": "fe9c034e",
   "metadata": {},
   "outputs": [],
   "source": [
    "# read lattice settings \n",
    "\n",
    "with open(path_to_lattice_settings) as json_file:\n",
    "    lattice_settings = json.load(json_file)\n",
    "lattice_settings"
   ]
  },
  {
   "cell_type": "markdown",
   "id": "1e9a9aee",
   "metadata": {},
   "source": [
    "## Simulation"
   ]
  },
  {
   "cell_type": "code",
   "execution_count": null,
   "id": "40d79043",
   "metadata": {},
   "outputs": [],
   "source": [
    "# get cell configurations\n",
    "(site_types, sites_states, color_map, markersize_map) = get_cell_configurations()\n",
    "print(site_types)"
   ]
  },
  {
   "cell_type": "code",
   "execution_count": null,
   "id": "6ec91503",
   "metadata": {},
   "outputs": [],
   "source": [
    "# parameters\n",
    "\n",
    "# relevant to all model types\n",
    "P_CC_GROW = 1       # probability of cancer cells growing\n",
    "P_HEP_DAMAGED = 0.5 # probability of healthy hepatocytes damaged by cancer cells to become apoptotic\n",
    "P_HEP_CLEARED = 0.5 # probability of apoptotic hepatocytes becoming cleared\n",
    "\n",
    "# only relevant to model_3\n",
    "P_CC_KILLED = 0.5   # probability of cancer cells being killed, by implicit immune predation \n",
    "\n",
    "\n",
    "parameters = {\n",
    "    \"P_CC_GROW\": P_CC_GROW,\n",
    "    \"P_HEP_DAMAGED\": P_HEP_DAMAGED,\n",
    "    \"P_HEP_CLEARED\": P_HEP_CLEARED,\n",
    "    \"P_CC_KILLED\": P_CC_KILLED\n",
    "}"
   ]
  },
  {
   "cell_type": "code",
   "execution_count": null,
   "id": "f6eb96cc",
   "metadata": {},
   "outputs": [],
   "source": [
    "cancer_cells_seeding_density = 1 # number = seeding density x number of CVs\n",
    "model_type = \"model_3\" \n",
    "T = 15"
   ]
  },
  {
   "cell_type": "code",
   "execution_count": null,
   "id": "b509d83a",
   "metadata": {},
   "outputs": [],
   "source": [
    "# simulation\n",
    "\n",
    "# ... load the lattice without cancer cells\n",
    "lattice_in_simulation_without_cancer_cells = pd.read_csv(path_to_lattice_without_tumour)\n",
    "n_CVs = lattice_in_simulation_without_cancer_cells.loc[\n",
    "    lattice_in_simulation_without_cancer_cells.site_type==0].shape[0]\n",
    "\n",
    "\n",
    "# ... initialise cancer cells & create cell dictionaries containing CancerCell and Hepatocyte objects\n",
    "cell_dictionaries, lattice_in_simulation = init_cell_dictionaries(\n",
    "    lattice=lattice_in_simulation_without_cancer_cells,\n",
    "    n_cancer_cells_init=int(cancer_cells_seeding_density * n_CVs),\n",
    "    CancerCell=CancerCell,\n",
    "    Hepatocyte=Hepatocyte\n",
    ")\n",
    "\n",
    "# data structures for the simulation\n",
    "lattice_in_simulation_copy = lattice_in_simulation.copy()\n",
    "cell_dictionaries_copy = cell_dictionaries.copy()\n",
    "\n",
    "# data frames to collect snapshots \n",
    "snapshots_at_selected_times = pd.DataFrame()\n",
    "dbscan_clusters_at_selected_times = pd.DataFrame()\n",
    "\n",
    "# simulation starts\n",
    "for t in np.arange(T+1):\n",
    "    \n",
    "    if t % (T / (T//5)) == 0:\n",
    "    \n",
    "        total_number_of_cancer_cells = len(cell_dictionaries_copy['CancerCell'])\n",
    "        total_number_of_hepatocytes  = len(cell_dictionaries_copy['Hepatocyte'])\n",
    "        number_of_apoptotic_hepatocytes = len(\n",
    "            {\n",
    "                hep_id:hep for hep_id, hep in cell_dictionaries_copy['Hepatocyte'].items()\n",
    "                if hep.attributes['cell_state'] == 2\n",
    "            }\n",
    "        )\n",
    "    \n",
    "        print(f\"t = {t}: \\n > # of Cancer Cells = {total_number_of_cancer_cells}\")\n",
    "        print(f\" > # of Hepatocytes = {total_number_of_hepatocytes}, of which {number_of_apoptotic_hepatocytes} are apoptotic.\")\n",
    "        \n",
    "        # record simulation snapshots\n",
    "        snapshots_at_t = lattice_in_simulation_copy.copy()\n",
    "        snapshots_at_t['time'] = t\n",
    "        snapshots_at_selected_times = pd.concat(\n",
    "            [snapshots_at_selected_times, snapshots_at_t]\n",
    "        )\n",
    "        \n",
    "        # perform DBSCAN clustering to get tumour sizes\n",
    "        tumour_t = snapshots_at_t.loc[snapshots_at_t.site_type==4].copy()\n",
    "        tumour_t_sizes, tumour_t_labelled = get_tumour_sizes(tumour_t=tumour_t)\n",
    "        tumour_t_labelled['time'] = t\n",
    "        dbscan_clusters_at_selected_times = pd.concat([dbscan_clusters_at_selected_times, tumour_t_labelled])\n",
    "        \n",
    "    # cancer cell proliferating, damaging hepatocytes\n",
    "    cell_dictionaries_copy, lattice_in_simulation_copy = update_cell_states(\n",
    "        cell_dictionaries=cell_dictionaries_copy,\n",
    "        lattice=lattice_in_simulation_copy,\n",
    "        parameters=parameters,\n",
    "        CancerCell=CancerCell,\n",
    "        Hepatocyte=Hepatocyte,\n",
    "        model_type=model_type\n",
    "    )\n",
    "    \n",
    "    # immune cell killing cancer cells\n",
    "    if model_type=='model_3':\n",
    "        implicit_immune_predation(\n",
    "            cell_dictionaries=cell_dictionaries_copy,\n",
    "            lattice=lattice_in_simulation_copy,\n",
    "            parameters=parameters,\n",
    "            model_type=model_type\n",
    "        )\n",
    "    "
   ]
  },
  {
   "cell_type": "code",
   "execution_count": null,
   "id": "0d7ad841",
   "metadata": {},
   "outputs": [],
   "source": [
    "# visualisation - colour by site type\n",
    "\n",
    "df_plot = snapshots_at_selected_times.copy()\n",
    "    \n",
    "# ===== scatter plots =====\n",
    "df_plot[\"site_type_name\"] = [\n",
    "    site_types[site_type]+\"-PC\" if zonation_type=='peri-central' and site_type=='HEP' else site_types[site_type]\n",
    "    for site_type, zonation_type in df_plot[['site_type', 'zonation_type']].values   \n",
    "]\n",
    "color_map['HEP-PC']='cyan'\n",
    "\n",
    "sca = px.scatter(\n",
    "    data_frame=df_plot,\n",
    "    x='x', y='y',\n",
    "    color='site_type_name',\n",
    "    facet_col='time', facet_col_wrap=2,\n",
    "    color_discrete_map=color_map,\n",
    ")\n",
    "\n",
    "# customize the figure\n",
    "sca.update_layout(\n",
    "    template='simple_white', width=1000, height=1000\n",
    ")\n",
    "sca.update_traces(\n",
    "    marker=dict(size=3)\n",
    ")\n",
    "sca.update_xaxes(title=dict(text=\"x\", font_family=\"Arial\", font_size=14))\n",
    "sca.update_yaxes(\n",
    "    title=dict(text=\"y\", font_family=\"Arial\", font_size=14),\n",
    "    scaleanchor=\"x\", scaleratio=1\n",
    "    )"
   ]
  },
  {
   "cell_type": "code",
   "execution_count": null,
   "id": "4b673802",
   "metadata": {},
   "outputs": [],
   "source": [
    "# visualisation - colour by dbscan cluster ids\n",
    "\n",
    "df_plot_2 = dbscan_clusters_at_selected_times.copy()\n",
    "    \n",
    "# ===== scatter plots =====\n",
    "\n",
    "sca = px.scatter(\n",
    "    data_frame=df_plot_2,\n",
    "    x='x', y='y',\n",
    "    color='label',\n",
    "    facet_col='time', facet_col_wrap=2,\n",
    "    color_continuous_scale='HSV',\n",
    "    hover_data=['label']\n",
    ")\n",
    "\n",
    "# customize the figure\n",
    "sca.update_layout(\n",
    "    template='simple_white', width=1000, height=1000\n",
    ")\n",
    "sca.update_traces(\n",
    "    marker=dict(size=3)\n",
    ")\n",
    "sca.update_xaxes(title=dict(text=\"x\", font_family=\"Arial\", font_size=14))\n",
    "sca.update_yaxes(\n",
    "    title=dict(text=\"y\", font_family=\"Arial\", font_size=14),\n",
    "    scaleanchor=\"x\", scaleratio=1\n",
    "    )"
   ]
  }
 ],
 "metadata": {
  "kernelspec": {
   "display_name": "virtual-liver",
   "language": "python",
   "name": "python3"
  },
  "language_info": {
   "codemirror_mode": {
    "name": "ipython",
    "version": 3
   },
   "file_extension": ".py",
   "mimetype": "text/x-python",
   "name": "python",
   "nbconvert_exporter": "python",
   "pygments_lexer": "ipython3",
   "version": "3.12.2"
  }
 },
 "nbformat": 4,
 "nbformat_minor": 5
}
